{
  "cells": [
    {
      "cell_type": "markdown",
      "metadata": {},
      "source": [
        "# Ejercicio1: Crear y usar listas de Python\n"
      ]
    },
    {
      "cell_type": "code",
      "execution_count": null,
      "metadata": {},
      "outputs": [],
      "source": [
        "# Creamos la lista planets y la mostramos\n",
        "planetas = ['Mercurio', 'Venus', 'Tierra', 'Marte', 'Jupiter', 'Saturno', 'Urano', 'Neptuno']\n",
        "print('Hay', len(planetas), 'planetas en el sistema solar')\n",
        "# Agregamos a plutón y mostramos el último elemento\n",
        "planetas.append('Pluton')\n",
        "print(planetas[-1], 'es el ultimo planeta del sistema solar')"
      ]
    },
    {
      "cell_type": "markdown",
      "metadata": {},
      "source": [
        "## Ejercicio 2: Trabajando con datos de una lista"
      ]
    },
    {
      "cell_type": "code",
      "execution_count": null,
      "metadata": {},
      "outputs": [],
      "source": [
        "# Lista de planetas\n",
        "planets = ['Mercury', 'Venus', 'Earth', 'Mars', 'Jupiter', 'Saturn', 'Neptune']\n",
        "# Solicitamos el nombre de un planeta *Pista:  input()*\n",
        "user_planet = input('Indica el nombre del planeta (escribe la primer letra con mayusculas)')\n",
        "# Busca el planeta en la lista\n",
        "index_planet = planets.index(user_planet)\n",
        "# Muestra los planetas más cercanos al sol\n",
        "print('los planetas mas cercanos que', user_planet, 'son: ', planets[0:index_planet])\n",
        "#Muestra los planetas más lejanos al sol\n",
        "print('los planetas mas lejanos que', user_planet, 'son: ', planets[index_planet+1:len(planets)+1])"
      ]
    }
  ],
  "metadata": {
    "interpreter": {
      "hash": "b8bdd4e700647ba2b08c59e5df8b7da1dcf50a218bcd4c1bcd9b3dc92e8788e5"
    },
    "kernelspec": {
      "display_name": "Python 3.9.1 64-bit",
      "name": "python3"
    },
    "language_info": {
      "codemirror_mode": {
        "name": "ipython",
        "version": 3
      },
      "file_extension": ".py",
      "mimetype": "text/x-python",
      "name": "python",
      "nbconvert_exporter": "python",
      "pygments_lexer": "ipython3",
      "version": "3.10.2"
    },
    "nteract": {
      "version": "nteract-front-end@1.0.0"
    }
  },
  "nbformat": 4,
  "nbformat_minor": 4
}
