{
  "cells": [
    {
      "cell_type": "markdown",
      "metadata": {},
      "source": [
        "# Ejercicio 1: Creación de diccionarios de Python"
      ]
    },
    {
      "cell_type": "code",
      "execution_count": null,
      "metadata": {},
      "outputs": [],
      "source": [
        "# Crea un diccionario llamado planet con los datos propuestos\n",
        "planet= {\n",
        "    'name': 'Mars',\n",
        "    'moons': 2}\n",
        "# Muestra el nombre del planeta y el número de lunas que tiene.\n",
        "print('El planeta', planet['name'], 'tiene', planet['moons'],'lunas')\n",
        "# Agrega la clave circunferencia con los datos proporcionados previamente\n",
        "planet['cirunferencia_km']= {\n",
        "    'polar': 6752,\n",
        "    'ecuatorial': 6792}\n",
        "# Imprime el nombre del planeta con su circunferencia polar.\n",
        "print('El planeta', planet['name'], 'tiene una circunferencia polar de', planet['cirunferencia_km']['polar'],'km')\n"
      ]
    },
    {
      "cell_type": "markdown",
      "metadata": {},
      "source": [
        "## Ejercicio 2: Programación dinámica con diccionarios"
      ]
    },
    {
      "cell_type": "code",
      "execution_count": null,
      "metadata": {},
      "outputs": [],
      "source": [
        "# Planets and moons\n",
        "\n",
        "planet_moons = {\n",
        "    'mercury': 0,\n",
        "    'venus': 0,\n",
        "    'earth': 1,\n",
        "    'mars': 2,\n",
        "    'jupiter': 79,\n",
        "    'saturn': 82,\n",
        "    'uranus': 27,\n",
        "    'neptune': 14,\n",
        "    'pluto': 5,\n",
        "    'haumea': 2,\n",
        "    'makemake': 1,\n",
        "    'eris': 1\n",
        "}\n",
        "# Añade el código para determinar el número de lunas.\n",
        "moons= planet_moons.values()\n",
        "planets= len(planet_moons.keys())\n",
        "# Agrega el código para contar el número de lunas. \n",
        "total_moons= 0\n",
        "\n",
        "for number_moons in moons:\n",
        "    total_moons = total_moons+ number_moons\n",
        "average = total_moons//planets\n",
        "print(average)"
      ]
    }
  ],
  "metadata": {
    "interpreter": {
      "hash": "916dbcbb3f70747c44a77c7bcd40155683ae19c65e1c03b4aa3499c5328201f1"
    },
    "kernelspec": {
      "display_name": "Python 3.8.10 64-bit",
      "name": "python3"
    },
    "language_info": {
      "codemirror_mode": {
        "name": "ipython",
        "version": 3
      },
      "file_extension": ".py",
      "mimetype": "text/x-python",
      "name": "python",
      "nbconvert_exporter": "python",
      "pygments_lexer": "ipython3",
      "version": "3.10.2"
    },
    "nteract": {
      "version": "nteract-front-end@1.0.0"
    },
    "orig_nbformat": 4
  },
  "nbformat": 4,
  "nbformat_minor": 2
}
